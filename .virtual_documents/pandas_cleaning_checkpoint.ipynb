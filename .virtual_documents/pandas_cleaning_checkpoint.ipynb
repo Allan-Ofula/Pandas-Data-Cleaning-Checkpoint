


# Run this cell without changes
import pandas as pd
import numpy as np
import matplotlib.pyplot as plt

df = pd.read_csv("heroes_information.csv", index_col=0)
df.replace("-", np.nan, inplace=True)

df.head()





# Run this cell without changes
relevant_columns = [
    "name",
    "Eye color",
    "Alignment"
]


# CodeGrade step1
# Replace None with appropriate code
# Keep only the necessary columns: 
df = df[["name", "Eye color", "Alignment"]]
df


# df should now have 734 rows and 3 columns
assert df.shape == (734, 3)





# CodeGrade step2
# Replace None with appropriate code
# Keep only rows where "Alignment" is "good"/character is a superhero
df = df[df["Alignment"] == "good"]
df


# df should now have 496 rows and 3 columns
assert df.shape == (496, 3)





# Run this cell without changes
df.info()





# CodeGrade step3
# Replace None with appropriate code
# Remove rows where "Eye color" is missing(NaN)
df = df.dropna(subset=["Eye color"])
df


# df should now have 378 rows and 3 columns
assert df.shape == (378, 3)





# CodeGrade step4
# Replace None with appropriate code

# Count of each eye color and select the top 5 most common ones
top_eye_colors_series = df["Eye color"].value_counts().head(5)    

# Extract the eye colors (index) as a list
top_eye_colors = list(top_eye_colors_series.index)       

# Extract the corresponding counts as a list
top_eye_color_counts = list(top_eye_colors_series.values)

print("Colors:", top_eye_colors)
print("Counts:", top_eye_color_counts)


# top_eye_colors should be a list of strings
assert type(top_eye_colors) == list
assert type(top_eye_colors[0]) == str

# There should be 5 eye colors in top_eye_colors
assert len(top_eye_colors) == 5

# "blue" should be one of the eye colors in the list
assert "blue" in top_eye_colors


# top_eye_color_counts should be a list of integers
assert type(top_eye_color_counts) == list
assert type(top_eye_color_counts[0]) == int or type(top_eye_color_counts[0]) == np.int64

# There should be 5 values in top_eye_color_counts
assert len(top_eye_color_counts) == 5

# 167 should be one of the counts in the list
assert 167 in top_eye_color_counts





# CodeGrade step5

bar_chart_title = "Top 5 Most Common Superhero Eye Colors"

fig, ax = plt.subplots()

# Your code here

# Defining custom colors for each eye color
custom_colors = ["blue", "brown", "green", "red", "grey"]

# Creating the bar chart using top_eye_colors and top_eye_color_counts
ax.bar(top_eye_colors, top_eye_color_counts, color=custom_colors)

# Set the title of the plot
ax.set_title(bar_chart_title)

# Label the x-axis and y-axis
ax.set_xlabel("Eye Color")
ax.set_ylabel("Number of Superheroes")

# Rotate x-axis labels for better visibility
ax.set_xticklabels(top_eye_colors, rotation=45)

# Show the plot
plt.show()


# The axis should contain 5 bars
assert len(ax.containers[0]) == 5

# One of the x tick labels should be "blue"
tick_text = [tick.get_text() for tick in ax.get_xticklabels()]
assert "blue" in tick_text



